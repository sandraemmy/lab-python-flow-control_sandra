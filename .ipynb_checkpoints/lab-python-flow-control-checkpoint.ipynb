{
 "cells": [
  {
   "cell_type": "markdown",
   "id": "d3bfc191-8885-42ee-b0a0-bbab867c6f9f",
   "metadata": {
    "tags": []
   },
   "source": [
    "# Lab | Flow Control"
   ]
  },
  {
   "cell_type": "markdown",
   "id": "3851fcd1-cf98-4653-9c89-e003b7ec9400",
   "metadata": {},
   "source": [
    "## Exercise: Managing Customer Orders Optimized\n"
   ]
  },
  {
   "cell_type": "code",
   "execution_count": 5,
   "id": "bd0b6f6e-7fd2-4f97-ae5c-fa0d1863bb49",
   "metadata": {},
   "outputs": [
    {
     "name": "stdin",
     "output_type": "stream",
     "text": [
      "Please enter the product that you want to order dsf\n"
     ]
    },
    {
     "name": "stdout",
     "output_type": "stream",
     "text": [
      "dsf\n"
     ]
    },
    {
     "name": "stdin",
     "output_type": "stream",
     "text": [
      "Do want to add another product (yes/no)? sd\n"
     ]
    },
    {
     "name": "stdout",
     "output_type": "stream",
     "text": [
      "dsf\n"
     ]
    },
    {
     "name": "stdin",
     "output_type": "stream",
     "text": [
      "Do want to add another product (yes/no)? yes\n",
      "Please enter the product that you want to order no\n"
     ]
    },
    {
     "name": "stdout",
     "output_type": "stream",
     "text": [
      "no\n",
      "dsf\n"
     ]
    },
    {
     "name": "stdin",
     "output_type": "stream",
     "text": [
      "Do want to add another product (yes/no)? no\n"
     ]
    },
    {
     "name": "stdout",
     "output_type": "stream",
     "text": [
      "Thank you for your oder!\n"
     ]
    }
   ],
   "source": [
    "# Define a list called `products` that contains the following items: \"t-shirt\", \"mug\", \"hat\", \"book\", \"keychain\".\n",
    "products= [\"t-shirt\", \"mug\", \"hat\", \"book\", \"keychain\"]\n",
    "inventory={}\n",
    "\n",
    "\n",
    "# Create an empty set to store the customer's orders\n",
    "customer_orders = set()\n",
    "\n",
    "\n",
    "\n",
    "new_product = input(\"Please enter the product that you want to order\").strip().lower()\n",
    "for product in new_product:\n",
    "    customer_orders.add(new_product) \n",
    "    print(new_product)\n",
    "    add_more=(input(\"Do want to add another product (yes/no)?\")).strip().lower()\n",
    "    if add_more == \"yes\":\n",
    "        print(input(\"Please enter the product that you want to order\").strip().lower())\n",
    "    elif add_more== \"no\":\n",
    "            print(\"Thank you for your oder!\")\n",
    "            break\n",
    "\n",
    "\n",
    "\n",
    "\n"
   ]
  },
  {
   "cell_type": "code",
   "execution_count": null,
   "id": "32fcbeca-4b74-4a6e-8cdf-f0754f9a68a8",
   "metadata": {},
   "outputs": [],
   "source": []
  },
  {
   "cell_type": "code",
   "execution_count": null,
   "id": "f859b049-909f-44be-8b38-a946a122ca6f",
   "metadata": {},
   "outputs": [],
   "source": []
  }
 ],
 "metadata": {
  "kernelspec": {
   "display_name": "Python 3",
   "language": "python",
   "name": "python3"
  },
  "language_info": {
   "codemirror_mode": {
    "name": "ipython",
    "version": 3
   },
   "file_extension": ".py",
   "mimetype": "text/x-python",
   "name": "python",
   "nbconvert_exporter": "python",
   "pygments_lexer": "ipython3",
   "version": "3.8.8"
  }
 },
 "nbformat": 4,
 "nbformat_minor": 5
}
